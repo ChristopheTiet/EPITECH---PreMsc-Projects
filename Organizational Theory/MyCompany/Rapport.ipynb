{
 "cells": [
  {
   "cell_type": "markdown",
   "metadata": {},
   "source": [
    "# Analyse du diagramme\n",
    "\n",
    "## I - Organisation\n",
    "\n",
    "On peut remarquer grâce au diagramme qu'il y a 4 pôles distincts au sein de l'entreprise:\n",
    "- Marketing\n",
    "- Sales\n",
    "- CSM\n",
    "- Technique.\n",
    "\n",
    "Chaque pôle est chapeauté par un manager/leader.\n",
    "\n",
    "Malgré l'effectif de la start up, on peut voir une organisation fonctionnelle sur 3 étages\n",
    "- en haut, nous avons les trois fondateurs\n",
    "- au milieu, nous avons les managers de chaque pôle\n",
    "- en bas, nous avons les éxécutants.\n",
    "\n",
    "Après avoir discuté avec les fondateurs, ils ont fait le choix, il y a 3 ans, d'assigner un manager dans chaque pôle afin de prendre de la hauteur sur l'entreprise et pouvoir se concentrer sur les aspects stratégiques. Cependant, ils se rendent compte que cela a créer une fracture avec les employées et commencent donc à remettre en question ce modèle\n",
    "\n",
    "## II - Echanges entre les collaborateurs\n",
    "\n",
    "Le diagramme reflète bien l'organisation mise en place par les fondateurs. Il y a un flux des salariés vers les managers puis des managers vers les fondateurs.\n",
    "On peut également voir qu'un flux horizontal d'échange sur fait entre collaborateur de chaque pôle.\n",
    "\n",
    "Eleonore, assistante du PDG, étant donné son rôle est en charge de communiquer avec chaque salarié de MyFeelBack\n",
    "\n",
    "### III - Valentin et moi\n",
    "\n",
    "Il deux alternants de chez Epitech, on peut se rendre compte que Valentin est bien intégré à l'équipe dev alors que mon poste est plus détaché du pole technique.\n",
    "La raison est que suis en total autonomie sur le poste de data analyst et que par mon rôle, je sois obligé d'être en constante relation avec les pôles métiers afin de bien comprendre les attendus.\n",
    "Mon travail consiste en effet à tirer des insights business en analysant les données de l'entreprise afin d'assurer le meilleur taux de réponses possibles au questionnaire."
   ]
  }
 ],
 "metadata": {
  "kernelspec": {
   "display_name": "Python 3",
   "language": "python",
   "name": "python3"
  },
  "language_info": {
   "codemirror_mode": {
    "name": "ipython",
    "version": 3
   },
   "file_extension": ".py",
   "mimetype": "text/x-python",
   "name": "python",
   "nbconvert_exporter": "python",
   "pygments_lexer": "ipython3",
   "version": "3.7.0"
  }
 },
 "nbformat": 4,
 "nbformat_minor": 2
}
